{
 "cells": [
  {
   "cell_type": "markdown",
   "metadata": {},
   "source": [
    "# t-SNE Algorithm - Gradient\n",
    "\n",
    "Setup:\n",
    "1. $$ p_{j|i} = \\frac{e^{- \\frac{\\left\\lVert x_i -x_j \\right\\rVert ^2}{2\\sigma _i ^2} }}{\\sum_{k \\ne i} e^{- \\frac{\\left\\lVert x_i -x_k \\right\\rVert ^2}{2\\sigma _i ^2} }} $$\n",
    "\n",
    "\n",
    "\n",
    "\n",
    "2. $$p_{ii}=0$$\n",
    "\n",
    "\n",
    "\n",
    "\n",
    "\n",
    "3. $$p_{ij} = \\frac{p_{i|j}+p_{j|i}}{2n}$$\n",
    "\n",
    "\n",
    "\n",
    "\n",
    "\n",
    "4. $$q_{ii} = 0$$\n",
    "\n",
    "\n",
    "\n",
    "\n",
    "\n",
    "5. $$ q_{ij} = \\frac{ (1+\\left\\lVert y_i -y_j \\right\\rVert ^2)^{-1} }{\\sum_{k \\ne l}  (1+\\left\\lVert y_k -y_l \\right\\rVert ^2)^{-1}} $$\n",
    "\n",
    "\n",
    "\n",
    "\n",
    "6. $$Cost = KL(P||Q) = \\sum_{\\substack{i}} \\sum_{\\substack{j}} p_{ij} \\log{ \\frac{p_{ij}}{q_{ij}}}=\\sum_{\\substack{i}} \\sum_{\\substack{j}} p_{ij} \\log{p_{ij}} -p_{ij}\\log{q_{ij}} $$ "
   ]
  },
  {
   "cell_type": "markdown",
   "metadata": {},
   "source": [
    "Now, we define two auxiliary variables $d_{ij}$ and Z as follows:\n",
    "\n",
    "$$ d_{ij} = \\left\\lVert y_i -y_j \\right\\rVert $$\n",
    "\n",
    "$$ Z = \\sum _{k \\ne l}(1+d_{kl}^{2})^{-1} $$\n",
    "\n",
    "Note that by these notations: $$ q_{ij} = \\frac{(1+d_{ij}^2)^{-1}}{Z} $$"
   ]
  },
  {
   "cell_type": "markdown",
   "metadata": {},
   "source": [
    "# Gradient derivation:"
   ]
  },
  {
   "cell_type": "markdown",
   "metadata": {},
   "source": [
    "We would like to find \n",
    "\n",
    "(1)$$ \\frac{\\delta}{\\delta y_i} Cost= \\frac{\\delta}{\\delta y_i}\\sum_{\\substack{k}} \\sum_{\\substack{l}} p_{kl} \\log{p_{kl}} -p_{kl}\\log{q_{kl}}$$\n",
    "\n",
    "Note that the first argument is a constant, therefore:\n",
    "\n",
    "(2)$$ \\frac{\\delta}{\\delta y_i} Cost= \\frac{\\delta}{\\delta y_i}\\sum_{\\substack{k}} \\sum_{\\substack{l}} p_{kl} \\log{p_{kl}} -p_{kl}\\log{q_{kl}}=-\\frac{\\delta}{\\delta y_i}\\sum_{\\substack{k}} \\sum_{\\substack{l}}p_{kl}\\log{q_{kl}}$$\n",
    "\n",
    "We'll use the chain rule to claculate the derivation:\n",
    "\n",
    "(3)$$\\frac{\\delta}{\\delta y_i} Cost=\\frac{\\delta}{\\delta d_{ij}}Cost\\cdot\\frac{\\delta d_{ij}}{\\delta y_i}$$\n",
    "\n",
    "First, we'll find $\\frac{\\delta d_{ij}}{\\delta y_i}$:\n",
    "\n",
    "(4)$$\\frac{\\delta d_{ij}}{\\delta y_i}=\\frac{\\delta}{\\delta y_i}||y_i-y_j||=\\frac{y_i-y_j}{||y_i-y_j||}=\\frac{y_i-y_j}{d_{ij}}$$\n",
    "\n",
    "Note that also:\n",
    "$$\\frac{\\delta d_{ji}}{\\delta y_i}=\\frac{\\delta}{\\delta y_i}||y_j-y_i||=-\\frac{y_j-y_i}{||y_j-y_i||}=\\frac{y_i-y_j}{d_{ij}}$$\n",
    "\n",
    "\n",
    "Next, Note that if $y_i$ changes, the only pairwise distances that change are $d_{ij}$ and $d_{ji}$ $\\forall j$, so we can write:\n",
    "\n",
    "(5) $$\\frac{\\delta}{\\delta y_i}Cost=\\sum_{\\substack{j}}(\\frac{\\delta}{\\delta d_{ij}}Cost\\cdot\\frac{\\delta d_{ij}}{\\delta y_i}+\\frac{\\delta}{\\delta d_{ji}}Cost\\cdot\\frac{\\delta d_{ji}}{\\delta y_i})=\n",
    "\\sum_{\\substack{j}}(\\frac{\\delta}{\\delta d_{ij}}Cost+\\frac{\\delta}{\\delta d_{ji}}Cost)\\cdot\\frac{y_i-y_j}{d_{ij}}$$\n",
    "\n",
    "Now, to make our calculations easier, we'll use the fact that $d_{ij}=d_{ji}$ and write:\n",
    "\n",
    "(6) $$\\frac{\\delta}{\\delta y_i}Cost=2\\sum_{\\substack{j}}(\\frac{\\delta}{\\delta d_{ij}}Cost)\\cdot\\frac{y_i-y_j}{d_{ij}}$$"
   ]
  },
  {
   "cell_type": "markdown",
   "metadata": {},
   "source": [
    "Next we'll calculate $\\frac{\\delta}{\\delta d_{ij}}Cost$:\n",
    "\n",
    "(7) $$\\frac{\\delta}{\\delta d_{ij}}Cost=-\\sum_{\\substack{k \\ne l}}p_{kl}\\frac{\\delta}{\\delta d_{ij}}\\log{q_{kl}}=\n",
    "-\\sum_{\\substack{k \\ne l}}p_{kl}\\frac{\\delta}{\\delta d_{ij}}[\\log{(q_{kl}\\cdot Z)}-\\log{Z}]$$\n",
    "\n",
    "The first argument is (notice that the argument is nonzero only for $k=i,l=j$):\n",
    "\n",
    "(8) $$\\sum_{\\substack{k \\ne l}}p_{kl}\\frac{\\delta}{\\delta d_{ij}}\\log{(q_{kl}\\cdot Z)}=\\sum_{\\substack{k \\ne l}}p_{kl}\\frac{1}{q_{kl}\\cdot Z} \\cdot\\frac{\\delta}{\\delta d_{ij}}{(q_{kl}\\cdot Z)}=p_{ij}\\frac{1}{q_{ij}\\cdot Z} \\cdot\\frac{\\delta}{\\delta d_{ij}}{(1+d_{ij}^2)^{-1}}=$$\n",
    "$$=-p_{ij}\\frac{1}{q_{ij}\\cdot Z} \\cdot{(1+d_{ij}^2)^{-2}\\cdot2d_{ij}}\n",
    "$$\n",
    "\n",
    "Using $ q_{ij} = \\frac{(1+d_{ij}^2)^{-1}}{Z} $ we get:\n",
    "\n",
    "(9)$$\\sum_{\\substack{k \\ne l}}p_{kl}\\frac{\\delta}{\\delta d_{ij}}\\log{(q_{kl}\\cdot Z)}=-2p_{ij}d_{ij}\\cdot{(1+d_{ij}^2)^{-1}}\n",
    "$$\n",
    "\n",
    "The second argument is:\n",
    "\n",
    "(10) $$\\frac{\\delta}{\\delta d_{ij}}\\log{Z}=\\frac{\\delta}{\\delta d_{ij}}\\sum _{k \\ne l}(1+d_{kl}^{2})^{-1}=-2d_{ij}\\cdot{(1+d_{ij}^2)^{-2}}$$"
   ]
  },
  {
   "cell_type": "markdown",
   "metadata": {},
   "source": [
    "Now we can plug (9) and (10) into (7) and get:\n",
    "\n",
    "(11) $$\\frac{\\delta}{\\delta d_{ij}}Cost=\n",
    "-\\sum_{\\substack{k \\ne l}}p_{kl}\\frac{\\delta}{\\delta d_{ij}}[\\log{(q_{kl}\\cdot Z)}-\\log{Z}]\n",
    "=2p_{ij}d_{ij}\\cdot{(1+d_{ij}^2)^{-1}}-\\frac{1}{Z}\\sum_{\\substack{k \\ne l}}p_{kl}\\cdot2d_{ij}\\cdot{(1+d_{ij}^2)^{-2}}$$\n",
    "$$=2p_{ij}d_{ij}\\cdot{(1+d_{ij}^2)^{-1}}-2d_{ij}\\cdot\\frac{1}{Z}\\cdot{(1+d_{ij}^2)^{-2}}\\sum_{\\substack{k \\ne l}}p_{kl}$$\n",
    "$$=2p_{ij}d_{ij}\\cdot{(1+d_{ij}^2)^{-1}}-2d_{ij}\\cdot q_{ij}\\cdot{(1+d_{ij}^2)^{-1}}\\sum_{\\substack{k \\ne l}}p_{kl}$$\n",
    "\n",
    "Remember $p_{ii}=0$. P is a probability matrix and therefore: $\\sum_{\\substack{k \\ne l}}p_{kl}=1$:\n",
    "\n",
    "(12) $$\\frac{\\delta}{\\delta d_{ij}}Cost=2p_{ij}d_{ij}\\cdot{(1+d_{ij}^2)^{-1}}-2d_{ij}\\cdot{(1+d_{ij}^2)^{-1}}\\cdot q_{ij}$$\n",
    "$$=2d_{ij}\\cdot{(1+d_{ij}^2)^{-1}}(p_{ij}-q_{ij})$$"
   ]
  },
  {
   "cell_type": "markdown",
   "metadata": {},
   "source": [
    "Now, plug (12) into (6) we get:\n",
    "\n",
    "(13) $$\\frac{\\delta}{\\delta y_i}Cost=2\\sum_{\\substack{j}}(\\frac{\\delta}{\\delta d_{ij}}Cost)\\cdot\\frac{y_i-y_j}{d_{ij}}=2\\sum_{\\substack{j}}2d_{ij}\\cdot{(1+d_{ij}^2)^{-1}}(p_{ij}-q_{ij})\\cdot\\frac{y_i-y_j}{d_{ij}}=$$\n",
    "$$=4\\sum_{\\substack{j}}{(1+||y_i-y_j||^2)^{-1}}(p_{ij}-q_{ij})\\cdot(y_i-y_j)\n",
    "$$\n",
    "\n",
    "$$\\frac{\\delta}{\\delta y_i}Cost=\n",
    "4\\sum_{\\substack{j}}{(1+||y_i-y_j||^2)^{-1}}(p_{ij}-q_{ij})\\cdot(y_i-y_j)\n",
    "$$"
   ]
  },
  {
   "cell_type": "markdown",
   "metadata": {},
   "source": [
    "# Now, Let's try it with a different Cost function: $Cost= KL(P-Q^{(0)}||Q)$"
   ]
  },
  {
   "cell_type": "markdown",
   "metadata": {},
   "source": [
    "In this case, we can calculate the gradient of $Cost= KL(P||Q)-KL(Q^{(0)}||Q)$\n",
    "\n",
    "Since $Q^{(0)}$ is, like P, a probability matrix where $Q^{(0)}_{ii}=0$, and $\\sum_{\\substack{k \\ne l}}q^{(0)}_{kl}=1$\n",
    "we'll get a similar result:\n",
    "\n",
    "$$\\frac{\\delta}{\\delta y_i}Cost=\n",
    "4\\sum_{\\substack{j}}{(1+||y_i-y_j||^2)^{-1}}(p_{ij}-q_{ij})\\cdot(y_i-y_j)-4\\sum_{\\substack{j}}{(1+||y_i-y_j||^2)^{-1}}(q^{(0)}_{ij}-q_{ij})\\cdot(y_i-y_j)\n",
    "$$\n",
    "\n",
    "Now, we can continue the calculation and see that:\n",
    "\n",
    "$$\\frac{\\delta}{\\delta y_i}Cost=\n",
    "4\\sum_{\\substack{j}}{(1+||y_i-y_j||^2)^{-1}}\\cdot(y_i-y_j)\\cdot(p_{ij}-q_{ij}-(q^{(0)}_{ij}-q_{ij}))=$$\n",
    "$$=4\\sum_{\\substack{j}}{(1+||y_i-y_j||^2)^{-1}}\\cdot(y_i-y_j)\\cdot(p_{ij}-q^{(0)}_{ij})$$\n",
    "\n",
    "Which is strange since $\\frac{\\delta}{\\delta y_i}Cost$ does not depend on $q_{ij}$\n",
    "\n",
    "We might want to add a factor to the cost function so we get\n",
    "$$Cost= (1-\\alpha) KL(P||Q)+\\alpha KL(Q^{(0)}||Q)$$\n",
    "\n",
    "In this case, We'll get:\n",
    "$$\\frac{\\delta}{\\delta y_i}Cost=\n",
    "4(1-\\alpha)\\sum_{\\substack{j}}{(1+||y_i-y_j||^2)^{-1}}(p_{ij}-q_{ij})\\cdot(y_i-y_j)+4\\alpha\\sum_{\\substack{j}}{(1+||y_i-y_j||^2)^{-1}}(q^{(0)}_{ij}-q_{ij})\\cdot(y_i-y_j)=$$\n",
    "$$4\\sum_{\\substack{j}}{(1+||y_i-y_j||^2)^{-1}}\\cdot(y_i-y_j)\\cdot[(1-\\alpha)(p_{ij}-q_{ij})+\\alpha(q^{(0)}_{ij}-q_{ij})]=\n",
    "$$\n",
    "$$4\\sum_{\\substack{j}}{(1+||y_i-y_j||^2)^{-1}}\\cdot(y_i-y_j)\\cdot[(1-\\alpha)p_{ij}+\\alpha q^{(0)}_{ij}-q_{ij}]\n",
    "$$"
   ]
  },
  {
   "cell_type": "markdown",
   "metadata": {},
   "source": [
    "# Now, Let's try it with a different Cost function: $Cost= KL(P\\cdot Q^{(0)}||Q)$"
   ]
  },
  {
   "cell_type": "markdown",
   "metadata": {},
   "source": [
    "We'll note $$A=P\\cdot Q^{(0)}$$ and $$A_{ij}=a_{ij}$$\n",
    "\n",
    "It is important to mention, though, that now $$\\sum_{\\substack{k}}\\sum_{\\substack{l}}a_{kl}\\ne1$$\n",
    "\n",
    "The calculation is relatively similar to the previous cases:\n",
    "\n",
    "$$\\frac{\\delta}{\\delta y_i} Cost=\\frac{\\delta}{\\delta d_{ij}}Cost\\cdot\\frac{\\delta d_{ij}}{\\delta y_i}=2\\sum_{\\substack{j}}(\\frac{\\delta}{\\delta d_{ij}}Cost)\\cdot\\frac{y_i-y_j}{d_{ij}}$$"
   ]
  },
  {
   "cell_type": "markdown",
   "metadata": {},
   "source": [
    "Now,\n",
    "$$\\frac{\\delta}{\\delta d_{ij}}Cost=-\\sum_{\\substack{k}}\\sum_{\\substack{l}}a_{kl}[\\frac{\\delta}{\\delta d_{ij}}(\\log{q_{kl}Z}-\\log{Z})]=$$\n",
    "$$-\\sum_{\\substack{k}}\\sum_{\\substack{l}}a_{kl}[\\frac{1}{q_{kl}Z}\\frac{\\delta}{\\delta d_{ij}}(q_{kl}Z)-\\frac{1}{Z}\\frac{\\delta}{\\delta d_{ij}}Z]=$$\n",
    "$$2d_{ij}(1+d_{ij}^2)^{-1}[a_{ij}-q_{ij}\\sum_{\\substack{k}}\\sum_{\\substack{l}}a_{kl}]$$\n",
    "\n",
    "Finally we get:\n",
    "$$\\frac{\\delta}{\\delta y_i} Cost=4\\sum_{\\substack{j}}(a_{ij}-q_{ij}\\sum_{\\substack{k}}\\sum_{\\substack{l}}a_{kl})\\cdot(y_i-y_j)\\cdot(1+||y_i-y_j||^2)^{-1}$$\n",
    "\n",
    "We can define $$R=\\sum_{\\substack{k}}\\sum_{\\substack{l}}a_{kl}$$ and end up with:\n",
    "\n",
    "$$\\frac{\\delta}{\\delta y_i} Cost=4\\sum_{\\substack{j}}(a_{ij}-R\\cdot q_{ij})\\cdot(y_i-y_j)\\cdot(1+||y_i-y_j||^2)^{-1}$$"
   ]
  }
 ],
 "metadata": {
  "kernelspec": {
   "display_name": "Python 3",
   "language": "python",
   "name": "python3"
  },
  "language_info": {
   "codemirror_mode": {
    "name": "ipython",
    "version": 3
   },
   "file_extension": ".py",
   "mimetype": "text/x-python",
   "name": "python",
   "nbconvert_exporter": "python",
   "pygments_lexer": "ipython3",
   "version": "3.6.6"
  }
 },
 "nbformat": 4,
 "nbformat_minor": 2
}
